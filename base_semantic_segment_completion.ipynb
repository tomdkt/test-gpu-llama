{
  "cells": [
    {
      "cell_type": "markdown",
      "metadata": {
        "id": "view-in-github",
        "colab_type": "text"
      },
      "source": [
        "<a href=\"https://colab.research.google.com/github/tomdkt/test-gpu-llama/blob/main/base_semantic_segment_completion.ipynb\" target=\"_parent\"><img src=\"https://colab.research.google.com/assets/colab-badge.svg\" alt=\"Open In Colab\"/></a>"
      ]
    },
    {
      "cell_type": "markdown",
      "metadata": {
        "id": "0elLrkUUK-zE"
      },
      "source": [
        "gemma-3-27b-it-Q3_K_L.gguf:"
      ]
    },
    {
      "cell_type": "code",
      "execution_count": null,
      "metadata": {
        "colab": {
          "base_uri": "https://localhost:8080/"
        },
        "id": "7XOrFXX8ROQV",
        "outputId": "70ba70eb-4ced-47dd-f964-045ebd780345"
      },
      "outputs": [
        {
          "output_type": "stream",
          "name": "stdout",
          "text": [
            "PRETTY_NAME=\"Ubuntu 22.04.4 LTS\"\n",
            "NAME=\"Ubuntu\"\n",
            "VERSION_ID=\"22.04\"\n",
            "VERSION=\"22.04.4 LTS (Jammy Jellyfish)\"\n",
            "VERSION_CODENAME=jammy\n",
            "ID=ubuntu\n",
            "ID_LIKE=debian\n",
            "HOME_URL=\"https://www.ubuntu.com/\"\n",
            "SUPPORT_URL=\"https://help.ubuntu.com/\"\n",
            "BUG_REPORT_URL=\"https://bugs.launchpad.net/ubuntu/\"\n",
            "PRIVACY_POLICY_URL=\"https://www.ubuntu.com/legal/terms-and-policies/privacy-policy\"\n",
            "UBUNTU_CODENAME=jammy\n",
            "nvcc: NVIDIA (R) Cuda compiler driver\n",
            "Copyright (c) 2005-2024 NVIDIA Corporation\n",
            "Built on Thu_Jun__6_02:18:23_PDT_2024\n",
            "Cuda compilation tools, release 12.5, V12.5.82\n",
            "Build cuda_12.5.r12.5/compiler.34385749_0\n",
            "True\n"
          ]
        }
      ],
      "source": [
        "!cat /etc/os-release\n",
        "!nvcc --version\n",
        "import torch\n",
        "print(torch.cuda.is_available())"
      ]
    },
    {
      "cell_type": "code",
      "execution_count": null,
      "metadata": {
        "id": "LSzdZM6ILO8Y"
      },
      "outputs": [],
      "source": [
        "# Compile CUDA Llama-cpp-python (~ 25 minutes)\n",
        "# !pip cache purge  # or pip cache remove llama-cpp-python\n",
        "# !pip uninstall llama-cpp-python\n",
        "# !CMAKE_ARGS=\"-DGGML_CUDA=on\" FORCE_CMAKE=1 pip install llama-cpp-python\n",
        "\n",
        "\n",
        "# import os\n",
        "# import llama_cpp\n",
        "\n",
        "# lib_path = os.path.dirname(llama_cpp.__file__)\n",
        "# zip_path = \"/content/llama_cpp.zip\"\n",
        "# print(f\"Zipping from: {lib_path}\")\n",
        "# !zip -r /content/llama_cpp.zip \"$lib_path\"\n",
        "\n",
        "# # 3. (Opcional) download zip(~26mb)\n",
        "# from google.colab import files\n",
        "# files.download(zip_path)\n",
        "\n",
        "# from llama_cpp import llama_cpp\n",
        "# # gpu enable must be True\n",
        "# print(llama_cpp.llama_supports_gpu_offload())"
      ]
    },
    {
      "cell_type": "code",
      "execution_count": null,
      "metadata": {
        "colab": {
          "base_uri": "https://localhost:8080/"
        },
        "collapsed": true,
        "id": "UhdMD2znsg09",
        "outputId": "6e059214-8feb-4f67-ff20-1928d62b5863"
      },
      "outputs": [
        {
          "output_type": "stream",
          "name": "stderr",
          "text": [
            "ggml_cuda_init: GGML_CUDA_FORCE_MMQ:    no\n",
            "ggml_cuda_init: GGML_CUDA_FORCE_CUBLAS: no\n",
            "ggml_cuda_init: found 1 CUDA devices:\n",
            "  Device 0: NVIDIA L4, compute capability 8.9, VMM: yes\n"
          ]
        },
        {
          "output_type": "stream",
          "name": "stdout",
          "text": [
            "True\n"
          ]
        }
      ],
      "source": [
        "# (Optional) Upload the built Llama.cpp distribution(~25mb)\n",
        "from google.colab import files\n",
        "uploaded = files.upload()  # select `llama_cpp_a100.zip`\n",
        "!unzip -o llama_cpp_L4.zip '*/llama_cpp/*' -d temp_llama\n",
        "!cp -r temp_llama/usr/local/lib/python3.11/dist-packages/llama_cpp /usr/local/lib/python3.11/dist-packages/\n",
        "\n",
        "\n",
        "!ls /usr/local/lib/python3.11/dist-packages/llama_cpp\n",
        "!pip install diskcache\n",
        "import sys\n",
        "sys.path.append(\"/usr/local/lib/python3.11/dist-packages\")\n",
        "\n",
        "from llama_cpp import llama_cpp\n",
        "# gpu enable must be True\n",
        "print(llama_cpp.llama_supports_gpu_offload())\n"
      ]
    },
    {
      "cell_type": "code",
      "source": [
        "# clean GPU RAM\n",
        "# from numba import cuda\n",
        "\n",
        "# device = cuda.get_current_device()\n",
        "# device.reset()\n",
        "\n",
        "# from accelerate import Accelerator\n",
        "# accelerator = Accelerator()\n",
        "# accelerator.free_memory()\n",
        "\n",
        "# wait"
      ],
      "metadata": {
        "id": "kzq6WohghIod"
      },
      "execution_count": null,
      "outputs": []
    },
    {
      "cell_type": "code",
      "execution_count": null,
      "metadata": {
        "id": "derLyXmEAEGb"
      },
      "outputs": [],
      "source": [
        "from llama_cpp import Llama\n",
        "\n",
        "import os\n",
        "os.environ[\"LLAMA_CPP_LOG_LEVEL\"] = \"ERROR\"\n",
        "\n",
        "llm = Llama.from_pretrained(\n",
        "\trepo_id=\"lmstudio-community/gemma-3-27b-it-GGUF\",\n",
        "\tfilename=\"gemma-3-27b-it-Q3_K_L.gguf\",\n",
        "\tn_ctx=8192,\n",
        "  n_threads=3,\n",
        "  n_gpu_layers=70,\n",
        ")"
      ]
    },
    {
      "cell_type": "code",
      "source": [
        "def handle_response(response):\n",
        "  # Display initial HTML structure for dynamic updates\n",
        "  display(HTML(\"<b>Resposta:</b> <div id='response'></div><br><br><br>\"))\n",
        "\n",
        "  for chunk in response:\n",
        "      content = chunk[\"choices\"][0][\"delta\"].get(\"content\", \"\")\n",
        "\n",
        "      # Update the HTML content with the latest response chunk\n",
        "      # Using `.format()` instead of f-strings to avoid backslash issues\n",
        "      display(HTML(\"<script>document.getElementById('response').innerHTML += '<span style=\\\"font-size:20px\\\">{}</span>'; </script>\".format(content.replace('`', '\\\\`'))), display_id='response_update')"
      ],
      "metadata": {
        "id": "FTDdHBu11Quy"
      },
      "execution_count": null,
      "outputs": []
    },
    {
      "cell_type": "code",
      "execution_count": null,
      "metadata": {
        "colab": {
          "base_uri": "https://localhost:8080/",
          "height": 173
        },
        "id": "tAPjU47zBfUQ",
        "outputId": "df7f9e34-edbc-42ad-dc84-dd569c5a334d"
      },
      "outputs": [
        {
          "output_type": "display_data",
          "data": {
            "text/plain": [
              "<IPython.core.display.HTML object>"
            ],
            "text/html": [
              "<b>Resposta:</b> <div id='response'></div><br><br><br>"
            ]
          },
          "metadata": {}
        },
        {
          "output_type": "display_data",
          "data": {
            "text/plain": [
              "<IPython.core.display.HTML object>"
            ],
            "text/html": [
              "<script>document.getElementById('response').innerHTML += '';</script>"
            ]
          },
          "metadata": {}
        },
        {
          "output_type": "stream",
          "name": "stderr",
          "text": [
            "llama_perf_context_print:        load time =     396.46 ms\n",
            "llama_perf_context_print: prompt eval time =     396.11 ms /    15 tokens (   26.41 ms per token,    37.87 tokens per second)\n",
            "llama_perf_context_print:        eval time =    3780.09 ms /    54 runs   (   70.00 ms per token,    14.29 tokens per second)\n",
            "llama_perf_context_print:       total time =    4568.42 ms /    69 tokens\n"
          ]
        }
      ],
      "source": [
        "#test it\n",
        "from IPython.display import display, HTML\n",
        "\n",
        "response = llm.create_chat_completion(\n",
        "    messages=[\n",
        "        {\n",
        "            \"role\": \"user\",\n",
        "            \"content\": [\n",
        "                {\n",
        "                    \"type\": \"text\",\n",
        "                    \"text\": \"oi!!! como vc está?\"\n",
        "                }\n",
        "            ]\n",
        "        }\n",
        "    ],\n",
        "    stream=True,\n",
        "    temperature=0.1,\n",
        "    top_k=40,\n",
        "    top_p=0.95,\n",
        "    min_p=0.05,\n",
        "    repeat_penalty=1.1,\n",
        "    max_tokens=512\n",
        ")\n",
        "\n",
        "handle_response(response)"
      ]
    },
    {
      "cell_type": "code",
      "execution_count": null,
      "metadata": {
        "id": "hBuuVQvAwkKH"
      },
      "outputs": [],
      "source": [
        "!pip install faiss-cpu langchain langchain-community sentence-transformers"
      ]
    },
    {
      "cell_type": "code",
      "execution_count": null,
      "metadata": {
        "colab": {
          "base_uri": "https://localhost:8080/",
          "height": 73
        },
        "id": "9voI0PvgT0wB",
        "outputId": "89dd2eaf-5982-47ea-c032-532d8d144f27"
      },
      "outputs": [
        {
          "output_type": "display_data",
          "data": {
            "text/plain": [
              "<IPython.core.display.HTML object>"
            ],
            "text/html": [
              "\n",
              "     <input type=\"file\" id=\"files-b116d388-d2bd-4d8d-afbc-c760c30ebd48\" name=\"files[]\" multiple disabled\n",
              "        style=\"border:none\" />\n",
              "     <output id=\"result-b116d388-d2bd-4d8d-afbc-c760c30ebd48\">\n",
              "      Upload widget is only available when the cell has been executed in the\n",
              "      current browser session. Please rerun this cell to enable.\n",
              "      </output>\n",
              "      <script>// Copyright 2017 Google LLC\n",
              "//\n",
              "// Licensed under the Apache License, Version 2.0 (the \"License\");\n",
              "// you may not use this file except in compliance with the License.\n",
              "// You may obtain a copy of the License at\n",
              "//\n",
              "//      http://www.apache.org/licenses/LICENSE-2.0\n",
              "//\n",
              "// Unless required by applicable law or agreed to in writing, software\n",
              "// distributed under the License is distributed on an \"AS IS\" BASIS,\n",
              "// WITHOUT WARRANTIES OR CONDITIONS OF ANY KIND, either express or implied.\n",
              "// See the License for the specific language governing permissions and\n",
              "// limitations under the License.\n",
              "\n",
              "/**\n",
              " * @fileoverview Helpers for google.colab Python module.\n",
              " */\n",
              "(function(scope) {\n",
              "function span(text, styleAttributes = {}) {\n",
              "  const element = document.createElement('span');\n",
              "  element.textContent = text;\n",
              "  for (const key of Object.keys(styleAttributes)) {\n",
              "    element.style[key] = styleAttributes[key];\n",
              "  }\n",
              "  return element;\n",
              "}\n",
              "\n",
              "// Max number of bytes which will be uploaded at a time.\n",
              "const MAX_PAYLOAD_SIZE = 100 * 1024;\n",
              "\n",
              "function _uploadFiles(inputId, outputId) {\n",
              "  const steps = uploadFilesStep(inputId, outputId);\n",
              "  const outputElement = document.getElementById(outputId);\n",
              "  // Cache steps on the outputElement to make it available for the next call\n",
              "  // to uploadFilesContinue from Python.\n",
              "  outputElement.steps = steps;\n",
              "\n",
              "  return _uploadFilesContinue(outputId);\n",
              "}\n",
              "\n",
              "// This is roughly an async generator (not supported in the browser yet),\n",
              "// where there are multiple asynchronous steps and the Python side is going\n",
              "// to poll for completion of each step.\n",
              "// This uses a Promise to block the python side on completion of each step,\n",
              "// then passes the result of the previous step as the input to the next step.\n",
              "function _uploadFilesContinue(outputId) {\n",
              "  const outputElement = document.getElementById(outputId);\n",
              "  const steps = outputElement.steps;\n",
              "\n",
              "  const next = steps.next(outputElement.lastPromiseValue);\n",
              "  return Promise.resolve(next.value.promise).then((value) => {\n",
              "    // Cache the last promise value to make it available to the next\n",
              "    // step of the generator.\n",
              "    outputElement.lastPromiseValue = value;\n",
              "    return next.value.response;\n",
              "  });\n",
              "}\n",
              "\n",
              "/**\n",
              " * Generator function which is called between each async step of the upload\n",
              " * process.\n",
              " * @param {string} inputId Element ID of the input file picker element.\n",
              " * @param {string} outputId Element ID of the output display.\n",
              " * @return {!Iterable<!Object>} Iterable of next steps.\n",
              " */\n",
              "function* uploadFilesStep(inputId, outputId) {\n",
              "  const inputElement = document.getElementById(inputId);\n",
              "  inputElement.disabled = false;\n",
              "\n",
              "  const outputElement = document.getElementById(outputId);\n",
              "  outputElement.innerHTML = '';\n",
              "\n",
              "  const pickedPromise = new Promise((resolve) => {\n",
              "    inputElement.addEventListener('change', (e) => {\n",
              "      resolve(e.target.files);\n",
              "    });\n",
              "  });\n",
              "\n",
              "  const cancel = document.createElement('button');\n",
              "  inputElement.parentElement.appendChild(cancel);\n",
              "  cancel.textContent = 'Cancel upload';\n",
              "  const cancelPromise = new Promise((resolve) => {\n",
              "    cancel.onclick = () => {\n",
              "      resolve(null);\n",
              "    };\n",
              "  });\n",
              "\n",
              "  // Wait for the user to pick the files.\n",
              "  const files = yield {\n",
              "    promise: Promise.race([pickedPromise, cancelPromise]),\n",
              "    response: {\n",
              "      action: 'starting',\n",
              "    }\n",
              "  };\n",
              "\n",
              "  cancel.remove();\n",
              "\n",
              "  // Disable the input element since further picks are not allowed.\n",
              "  inputElement.disabled = true;\n",
              "\n",
              "  if (!files) {\n",
              "    return {\n",
              "      response: {\n",
              "        action: 'complete',\n",
              "      }\n",
              "    };\n",
              "  }\n",
              "\n",
              "  for (const file of files) {\n",
              "    const li = document.createElement('li');\n",
              "    li.append(span(file.name, {fontWeight: 'bold'}));\n",
              "    li.append(span(\n",
              "        `(${file.type || 'n/a'}) - ${file.size} bytes, ` +\n",
              "        `last modified: ${\n",
              "            file.lastModifiedDate ? file.lastModifiedDate.toLocaleDateString() :\n",
              "                                    'n/a'} - `));\n",
              "    const percent = span('0% done');\n",
              "    li.appendChild(percent);\n",
              "\n",
              "    outputElement.appendChild(li);\n",
              "\n",
              "    const fileDataPromise = new Promise((resolve) => {\n",
              "      const reader = new FileReader();\n",
              "      reader.onload = (e) => {\n",
              "        resolve(e.target.result);\n",
              "      };\n",
              "      reader.readAsArrayBuffer(file);\n",
              "    });\n",
              "    // Wait for the data to be ready.\n",
              "    let fileData = yield {\n",
              "      promise: fileDataPromise,\n",
              "      response: {\n",
              "        action: 'continue',\n",
              "      }\n",
              "    };\n",
              "\n",
              "    // Use a chunked sending to avoid message size limits. See b/62115660.\n",
              "    let position = 0;\n",
              "    do {\n",
              "      const length = Math.min(fileData.byteLength - position, MAX_PAYLOAD_SIZE);\n",
              "      const chunk = new Uint8Array(fileData, position, length);\n",
              "      position += length;\n",
              "\n",
              "      const base64 = btoa(String.fromCharCode.apply(null, chunk));\n",
              "      yield {\n",
              "        response: {\n",
              "          action: 'append',\n",
              "          file: file.name,\n",
              "          data: base64,\n",
              "        },\n",
              "      };\n",
              "\n",
              "      let percentDone = fileData.byteLength === 0 ?\n",
              "          100 :\n",
              "          Math.round((position / fileData.byteLength) * 100);\n",
              "      percent.textContent = `${percentDone}% done`;\n",
              "\n",
              "    } while (position < fileData.byteLength);\n",
              "  }\n",
              "\n",
              "  // All done.\n",
              "  yield {\n",
              "    response: {\n",
              "      action: 'complete',\n",
              "    }\n",
              "  };\n",
              "}\n",
              "\n",
              "scope.google = scope.google || {};\n",
              "scope.google.colab = scope.google.colab || {};\n",
              "scope.google.colab._files = {\n",
              "  _uploadFiles,\n",
              "  _uploadFilesContinue,\n",
              "};\n",
              "})(self);\n",
              "</script> "
            ]
          },
          "metadata": {}
        },
        {
          "output_type": "stream",
          "name": "stdout",
          "text": [
            "Saving test.txt to test.txt\n"
          ]
        }
      ],
      "source": [
        "from langchain.vectorstores import FAISS\n",
        "from langchain.embeddings import HuggingFaceEmbeddings\n",
        "from langchain.text_splitter import RecursiveCharacterTextSplitter\n",
        "from langchain.docstore.document import Document\n",
        "\n",
        "from google.colab import files\n",
        "\n",
        "uploaded = files.upload()\n",
        "filename = list(uploaded.keys())[0]\n"
      ]
    },
    {
      "cell_type": "code",
      "execution_count": null,
      "metadata": {
        "id": "u8vtowaE0EI8"
      },
      "outputs": [],
      "source": [
        "from langchain.text_splitter import MarkdownHeaderTextSplitter\n",
        "\n",
        "with open(filename, \"r\", encoding=\"utf-8\") as f:\n",
        "    texto = f.read()\n",
        "\n",
        "splitter = RecursiveCharacterTextSplitter(chunk_size=500, chunk_overlap=50)\n",
        "chunks = splitter.split_text(texto)\n",
        "\n",
        "\n",
        "splitter = MarkdownHeaderTextSplitter(headers_to_split_on=[(\"##\", \"title\")])\n",
        "chunks = splitter.split_text(texto)\n",
        "\n",
        "embeddings = HuggingFaceEmbeddings(model_name=\"sentence-transformers/all-mpnet-base-v2\")\n",
        "db = FAISS.from_documents(chunks, embeddings)"
      ]
    },
    {
      "cell_type": "code",
      "source": [
        "# Split text into chapters\n",
        "\n",
        "title = \"A quarta edição\"\n",
        "chapter = [doc for doc in db.docstore._dict.values() if doc.metadata.get(\"title\") == title]\n",
        "context = \"\\n\".join(doc.page_content for doc in chapter)\n",
        "response = llm.create_chat_completion(\n",
        "    messages=[\n",
        "        {\"role\": \"system\", \"content\": \"Você resume livros e deve responder perguntas sobre este capitulo de titulo \" + title + \". Este é o conteudo do capitulo: \" + context },\n",
        "        {\"role\": \"user\", \"content\": \"Qual o capitulo atual???!\"}\n",
        "    ],\n",
        "    stream=True,\n",
        "    temperature=0.1,\n",
        "    #max_tokens=30,\n",
        ")\n",
        "\n",
        "handle_response(response)"
      ],
      "metadata": {
        "colab": {
          "base_uri": "https://localhost:8080/",
          "height": 322
        },
        "id": "LJtBjCGIuYZh",
        "outputId": "adf125f5-d264-4f0f-ecee-f6ca7b1877a0"
      },
      "execution_count": null,
      "outputs": [
        {
          "output_type": "display_data",
          "data": {
            "text/plain": [
              "<IPython.core.display.HTML object>"
            ],
            "text/html": [
              "<b>Resposta:</b> <div id='response'></div><br><br><br>"
            ]
          },
          "metadata": {}
        },
        {
          "output_type": "stream",
          "name": "stderr",
          "text": [
            "Llama.generate: 25 prefix-match hit, remaining 1070 prompt tokens to eval\n"
          ]
        },
        {
          "output_type": "display_data",
          "data": {
            "text/plain": [
              "<IPython.core.display.HTML object>"
            ],
            "text/html": [
              "<script>document.getElementById('response').innerHTML += '<span style=\"font-size:20px\"></span>'; </script>"
            ]
          },
          "metadata": {}
        },
        {
          "output_type": "stream",
          "name": "stderr",
          "text": [
            "llama_perf_context_print:        load time =     396.46 ms\n",
            "llama_perf_context_print: prompt eval time =    1736.88 ms /  1070 tokens (    1.62 ms per token,   616.05 tokens per second)\n",
            "llama_perf_context_print:        eval time =   16443.01 ms /   213 runs   (   77.20 ms per token,    12.95 tokens per second)\n",
            "llama_perf_context_print:       total time =   18958.08 ms /  1283 tokens\n"
          ]
        }
      ]
    },
    {
      "cell_type": "code",
      "execution_count": null,
      "metadata": {
        "colab": {
          "base_uri": "https://localhost:8080/",
          "height": 372
        },
        "id": "3pjxEDvWyYny",
        "outputId": "e6bd2756-60d9-4fcb-8bee-dcc614c5b119"
      },
      "outputs": [
        {
          "output_type": "display_data",
          "data": {
            "text/plain": [
              "<IPython.core.display.HTML object>"
            ],
            "text/html": [
              "<b>Resposta:</b> <div id='response'></div><br><br><br>"
            ]
          },
          "metadata": {}
        },
        {
          "output_type": "stream",
          "name": "stderr",
          "text": [
            "Llama.generate: 19 prefix-match hit, remaining 6542 prompt tokens to eval\n"
          ]
        },
        {
          "output_type": "display_data",
          "data": {
            "text/plain": [
              "<IPython.core.display.HTML object>"
            ],
            "text/html": [
              "<script>document.getElementById('response').innerHTML += '<span style=\"font-size:20px\"></span>'; </script>"
            ]
          },
          "metadata": {}
        },
        {
          "output_type": "stream",
          "name": "stderr",
          "text": [
            "llama_perf_context_print:        load time =     396.46 ms\n",
            "llama_perf_context_print: prompt eval time =   13069.06 ms /  6542 tokens (    2.00 ms per token,   500.57 tokens per second)\n",
            "llama_perf_context_print:        eval time =   29009.87 ms /   317 runs   (   91.51 ms per token,    10.93 tokens per second)\n",
            "llama_perf_context_print:       total time =   43252.38 ms /  6859 tokens\n"
          ]
        }
      ],
      "source": [
        "# run semantic search only within this chapter\n",
        "subject = \"Emplasto bras\";\n",
        "resultados = db.similarity_search(subject, k=5)\n",
        "context = \"\\n\".join([doc.page_content for doc in resultados])\n",
        "\n",
        "response = llm.create_chat_completion(\n",
        "    messages=[\n",
        "        {\"role\": \"system\", \"content\": \"Você é um resumidor de livros e deve responder perguntas sobre este capitulo de titulo \" + title + \". Este é o conteudo do capitulo: \" + context },\n",
        "        {\"role\": \"user\", \"content\": \"Qual o capitulo atual???!\"}\n",
        "    ],\n",
        "    stream=True,\n",
        "    temperature=0.1,\n",
        "    #max_tokens=30,\n",
        ")\n",
        "\n",
        "handle_response(response)"
      ]
    }
  ],
  "metadata": {
    "accelerator": "GPU",
    "colab": {
      "gpuType": "L4",
      "machine_shape": "hm",
      "provenance": [],
      "include_colab_link": true
    },
    "kernelspec": {
      "display_name": "Python 3",
      "name": "python3"
    },
    "language_info": {
      "name": "python"
    }
  },
  "nbformat": 4,
  "nbformat_minor": 0
}